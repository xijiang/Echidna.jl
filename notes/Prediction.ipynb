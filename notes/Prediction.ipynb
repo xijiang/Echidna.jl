{
 "cells": [
  {
   "cell_type": "code",
   "execution_count": 42,
   "metadata": {},
   "outputs": [],
   "source": [
    "using LinearAlgebra, Statistics, StatsPlots, Random"
   ]
  },
  {
   "cell_type": "markdown",
   "metadata": {},
   "source": [
    "### Simulation\n",
    "Here, I extracted 1000 SNP loci of 100 random ID from a real data set.  Then I\n",
    "1. sample 100 loci as QTL\n",
    "2. sampel the QTL effect from a normal distribution\n",
    "3. Calculate a true breeding values and G matrix"
   ]
  },
  {
   "cell_type": "code",
   "execution_count": 43,
   "metadata": {},
   "outputs": [],
   "source": [
    "nid, nlc, nql = 100, 1000, 100\n",
    "\n",
    "# read the SNP genotypes (W) as floats\n",
    "W = convert.(Float64, reshape(read(\"gt.txt\"), nlc, :)) .- 48\n",
    "\n",
    "# sample QTL\n",
    "qlc = sort(shuffle(1:nlc)[1:nql])\n",
    "\n",
    "# and their effects\n",
    "eql = randn(nql) ./ sqrt(nql)\n",
    "\n",
    "# give each ID a random name\n",
    "ID = String[]\n",
    "for _ in 1:nid\n",
    "    push!(ID, randstring(7))\n",
    "end\n",
    "\n",
    "# the QTL\n",
    "qtl = W[qlc, :]\n",
    "\n",
    "# the true breeding values\n",
    "tbv = qtl'eql\n",
    "\n",
    "# frequencies of the SNP loci\n",
    "p = mean(W, dims=2)./2\n",
    "q = 1 .- p\n",
    "\n",
    "# ∑(2𝑝𝑞)\n",
    "s2pq = 2p'q\n",
    "r2pq = 1/s2pq[1]  # mul is faster than div\n",
    "\n",
    "# the G matrix\n",
    "W .-= 2p\n",
    "G = W'W .* r2pq + 0.0001I;"
   ]
  },
  {
   "cell_type": "markdown",
   "metadata": {},
   "source": [
    "From above, we obtained `ID` names, `true breeding values` and `G matrix`.\n",
    "\n",
    "Next we:\n",
    "\n",
    "### Create phenotypes with homogeneous residuals"
   ]
  },
  {
   "cell_type": "code",
   "execution_count": 44,
   "metadata": {},
   "outputs": [],
   "source": [
    "h2 = 0.8\n",
    "vg = var(tbv)\n",
    "ve = vg/h2 * (1-h2)\n",
    "se = sqrt(ve)\n",
    "\n",
    "# Phenotype part I\n",
    "y1 = tbv + rand(nid) .* se;"
   ]
  },
  {
   "cell_type": "markdown",
   "metadata": {},
   "source": [
    "using the first 80 ID as a training set, the rest as validation set.\n",
    "\n",
    "### EBV with MME"
   ]
  },
  {
   "cell_type": "code",
   "execution_count": 45,
   "metadata": {},
   "outputs": [
    {
     "data": {
      "text/plain": [
       "(0.9879358045967253, -0.02165307311304022)"
      ]
     },
     "execution_count": 45,
     "metadata": {},
     "output_type": "execute_result"
    }
   ],
   "source": [
    "nt, nv = 80, 20\n",
    "\n",
    "# design matrix for μ, assuming no other fixed effects\n",
    "X = ones(nt)\n",
    "\n",
    "# design matrix for ID\n",
    "Z = [I zeros(nt, nv)]\n",
    "\n",
    "#σ^2_a/σ^2_e\n",
    "λ = (1-h2)/h2\n",
    "\n",
    "# left hand side\n",
    "giv = inv(G)\n",
    "lhs = [ nid X'Z\n",
    "        Z'X (Z'Z + giv .* λ)]\n",
    "\n",
    "# right had side\n",
    "y = y1[1:nt]\n",
    "rhs = [ X'y\n",
    "        Z'y]\n",
    "\n",
    "# EBV\n",
    "ebv = lhs \\ rhs\n",
    "\n",
    "# correlation in the training and validation sets\n",
    "cor(tbv[1:nt], ebv[2:nt+1]), cor(tbv[nt+1:end], ebv[nt+2:end])"
   ]
  },
  {
   "cell_type": "markdown",
   "metadata": {},
   "source": [
    "### Create phenotypes with heterogeneous residuals"
   ]
  },
  {
   "cell_type": "code",
   "execution_count": 46,
   "metadata": {},
   "outputs": [],
   "source": [
    "# suppose each training ID has 1-20 observations\n",
    "nob = [rand(1:20, nt); ones(nv)]\n",
    "\n",
    "# the residual \n",
    "err = randn(nid) .* se ./ sqrt.(nob)\n",
    "\n",
    "# phenotype part II\n",
    "y2 = tbv + err;"
   ]
  },
  {
   "cell_type": "markdown",
   "metadata": {},
   "source": [
    "### EBV with MME"
   ]
  },
  {
   "cell_type": "code",
   "execution_count": 47,
   "metadata": {},
   "outputs": [
    {
     "data": {
      "text/plain": [
       "(0.9889878526582196, 0.049813754801272245)"
      ]
     },
     "execution_count": 47,
     "metadata": {},
     "output_type": "execute_result"
    }
   ],
   "source": [
    "# inverse of residuals\n",
    "R = diagm(nob[1:nt] ./ ve)\n",
    "\n",
    "lhs = [ X'R*X    X'R*Z\n",
    "        Z'R*X  Z'R*Z + giv./vg ]\n",
    "rhs = [ X'R*y\n",
    "        Z'R*y ]\n",
    "\n",
    "ebv = lhs \\ rhs\n",
    "\n",
    "cor(tbv[1:nt], ebv[2:nt+1]), cor(tbv[nt+1:end], ebv[nt+2:end])"
   ]
  },
  {
   "cell_type": "markdown",
   "metadata": {},
   "source": [
    "### Other methods?\n",
    "$y_v = G^{22}\\cdot G^{12}\\cdot G^{11}\\cdot y_t$"
   ]
  }
 ],
 "metadata": {
  "kernelspec": {
   "display_name": "Julia 1.6.0-DEV",
   "language": "julia",
   "name": "julia-1.6"
  },
  "language_info": {
   "file_extension": ".jl",
   "mimetype": "application/julia",
   "name": "julia",
   "version": "1.6.0"
  }
 },
 "nbformat": 4,
 "nbformat_minor": 4
}
